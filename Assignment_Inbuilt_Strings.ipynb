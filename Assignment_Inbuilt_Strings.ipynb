{
 "cells": [
  {
   "cell_type": "markdown",
   "id": "a5fab287",
   "metadata": {},
   "source": [
    "# 1.\tWhat is the purpose of the len() function in Python, and how can it be used with strings?"
   ]
  },
  {
   "cell_type": "code",
   "execution_count": 2,
   "id": "7551d737",
   "metadata": {},
   "outputs": [
    {
     "data": {
      "text/plain": [
       "'\\nAns: - Purpose of the len() function in python is to know how many character, item or elements in particular list,\\ndictionary, set, tuple and string.\\n\\nWhen used with strings, len() returns the number of characters that make up the string, including spaces and punctuation\\n\\nExample\\n'"
      ]
     },
     "execution_count": 2,
     "metadata": {},
     "output_type": "execute_result"
    }
   ],
   "source": [
    "\"\"\"\n",
    "Ans: - Purpose of the len() function in python is to know how many character, item or elements in particular list,\n",
    "dictionary, set, tuple and string.\n",
    "\n",
    "When used with strings, len() returns the number of characters that make up the string, including spaces and punctuation\n",
    "\n",
    "\"\"\""
   ]
  },
  {
   "cell_type": "code",
   "execution_count": 5,
   "id": "ec4d3308",
   "metadata": {},
   "outputs": [
    {
     "name": "stdout",
     "output_type": "stream",
     "text": [
      "above sting contain 42 characters with space and list have 7 elements\n",
      "str1 = 42 characters\n",
      "lst1 = 7 elements\n"
     ]
    }
   ],
   "source": [
    "#example of len() function\n",
    "str1 = \"Chander Parkash is one of the hard learner\"\n",
    "lst1 = [\"Chander\", \"Rajesh\", 1, 587, 5.47, True, 58+5j]\n",
    "print(f\"above sting contain {len(str1)} characters with space and list have {len(lst1)} elements\")\n",
    "print(f\"str1 = {len(str1)} characters\")\n",
    "print(f\"lst1 = {len(lst1)} elements\")"
   ]
  },
  {
   "cell_type": "markdown",
   "id": "1bca5d61",
   "metadata": {},
   "source": [
    "# 2.\tHow can you concatenate two or more strings in Python, and can you provide an example of string concatenation?"
   ]
  },
  {
   "cell_type": "code",
   "execution_count": null,
   "id": "85aa112c",
   "metadata": {},
   "outputs": [],
   "source": [
    "\"\"\"\n",
    "Ans: - If we concatenate two or more strings in Python just add \"+\" symbol and then two or more seperate strings convert into\n",
    "one also we can use f string formatting to add more than one string.\n",
    "\n",
    "\"\"\""
   ]
  },
  {
   "cell_type": "code",
   "execution_count": 9,
   "id": "f614ccdb",
   "metadata": {},
   "outputs": [
    {
     "name": "stdout",
     "output_type": "stream",
     "text": [
      "one of the most harworking student is = Chander Parkash\n",
      "there is another f-string formatting to provide same output as mentioned above i.e. one of the most harworking student is =  Chander Parkash\n"
     ]
    }
   ],
   "source": [
    "#example for concatenate two or more strings\n",
    "str2 = \"Chander\"\n",
    "str3 = \"Parkash\"\n",
    "str4 = \"one of the most harworking student is = \"\n",
    "\n",
    "print(str4 + str2 + \" \"+ str3)\n",
    "print(f\"there is another f-string formatting to provide same output as mentioned above i.e. {str4} {str2} {str3}\")"
   ]
  },
  {
   "cell_type": "markdown",
   "id": "e8e5f308",
   "metadata": {},
   "source": [
    "# 3.\tWhat is string slicing in Python, and how can you extract a portion of a string using this method?"
   ]
  },
  {
   "cell_type": "code",
   "execution_count": null,
   "id": "31139e5b",
   "metadata": {},
   "outputs": [],
   "source": [
    "\"\"\"\n",
    "Ans: - String slicing is nothing but through string slicing, we can extract some particular part from any string by slicing it.\n",
    "there is syntax to extract a portion of a string is string_name[starting point:ending point+1].\n",
    "\n",
    "\"\"\""
   ]
  },
  {
   "cell_type": "code",
   "execution_count": 16,
   "id": "49f686d5",
   "metadata": {},
   "outputs": [
    {
     "name": "stdout",
     "output_type": "stream",
     "text": [
      "PWSkills\n",
      "best faculty\n",
      "PWSkills have best faculty\n"
     ]
    }
   ],
   "source": [
    "#example of string slicing to extract a portion of string\n",
    "new_str = \"PWSkills provide one of the most in demand skills courses at very reasonable price with best faculty\"\n",
    "print(new_str[0:8]) #output = PWSkills\n",
    "print(new_str[88:101]) #output = best faculty\n",
    "len(new_str)\n",
    "\n",
    "print(f\"{new_str[0:8]} have {new_str[88:101]}\") #f-string formatting using with slicing"
   ]
  },
  {
   "cell_type": "markdown",
   "id": "faa83d71",
   "metadata": {},
   "source": [
    "# 4.\tHow can you change the case of a string in Python, and can you provide examples of both making a string all uppercase and all lowercase?"
   ]
  },
  {
   "cell_type": "code",
   "execution_count": null,
   "id": "74a513a8",
   "metadata": {},
   "outputs": [],
   "source": [
    "\"\"\"\n",
    "Ans: - We can use for loop to change the case of a string in Python\n",
    "\"\"\""
   ]
  },
  {
   "cell_type": "code",
   "execution_count": 25,
   "id": "c58b438d",
   "metadata": {},
   "outputs": [
    {
     "name": "stdout",
     "output_type": "stream",
     "text": [
      "new_list in uppercase = ['CHANDER', 'PARKASH', 'AJAY', 'ANIL', 'FARUQ']\n",
      "\n",
      "uppercase string convert in lowercase = ['chander', 'parkash', 'ajay', 'anil', 'faruq']\n"
     ]
    }
   ],
   "source": [
    "new_list = [\"Chander\", \"Parkash\", \"Ajay\", \"Anil\", \"Faruq\"]\n",
    "\n",
    "#example to convert string into uppercase\n",
    "convert_uppercase = [] #create blank list\n",
    "\n",
    "for i in new_list:\n",
    "    convert_uppercase.append(i.upper())\n",
    "print(f\"new_list in uppercase = {convert_uppercase}\")\n",
    "print()\n",
    "\n",
    "#example to convert string into lowercase\n",
    "#convert_uppercase = ['CHANDER', 'PARKASH', 'AJAY', 'ANIL', 'FARUQ']\n",
    "#now convert this above uppercase list into lowercase\n",
    "\n",
    "convert_into_lowercase = [] #create blank list\n",
    "\n",
    "for j in convert_uppercase:\n",
    "    convert_into_lowercase.append(j.lower())\n",
    "print(f\"uppercase string convert in lowercase = {convert_into_lowercase}\")\n"
   ]
  },
  {
   "cell_type": "markdown",
   "id": "20b45774",
   "metadata": {},
   "source": [
    "# 5.\tWhat does the split() method do in Python, and how can you split a string using a specific delimiter?"
   ]
  },
  {
   "cell_type": "code",
   "execution_count": null,
   "id": "75cd15c3",
   "metadata": {},
   "outputs": [],
   "source": [
    "\"\"\"\n",
    "Ans: - The split() method in Python is a built-in string method that splits a string into a list of substrings.\n",
    "It takes an optional separator argument to specify the delimiter used for splitting.\n",
    "\n",
    "\"\"\""
   ]
  },
  {
   "cell_type": "code",
   "execution_count": 26,
   "id": "817b0db0",
   "metadata": {},
   "outputs": [
    {
     "name": "stdout",
     "output_type": "stream",
     "text": [
      "['Chander', ' Parkash', ' Ajay', ' Vijay', ' Suresh']\n"
     ]
    }
   ],
   "source": [
    "#example of spliting a string\n",
    "\n",
    "new_str1 = \"Chander, Parkash, Ajay, Vijay, Suresh\" #string with comma\n",
    "\n",
    "split_str = new_str1.split(',') #string seperated with delimiter comma\n",
    "print(split_str) #output ['Chander', ' Parkash', ' Ajay', ' Vijay', ' Suresh']"
   ]
  }
 ],
 "metadata": {
  "kernelspec": {
   "display_name": "Python 3 (ipykernel)",
   "language": "python",
   "name": "python3"
  },
  "language_info": {
   "codemirror_mode": {
    "name": "ipython",
    "version": 3
   },
   "file_extension": ".py",
   "mimetype": "text/x-python",
   "name": "python",
   "nbconvert_exporter": "python",
   "pygments_lexer": "ipython3",
   "version": "3.11.5"
  }
 },
 "nbformat": 4,
 "nbformat_minor": 5
}
